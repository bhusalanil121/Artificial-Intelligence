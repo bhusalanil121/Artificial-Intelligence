{
 "cells": [
  {
   "cell_type": "markdown",
   "id": "8f8de323",
   "metadata": {},
   "source": [
    "# Name: Anil Bhusal\n",
    "### Csc: 44800\n",
    "### Assignment 2\n"
   ]
  },
  {
   "cell_type": "markdown",
   "id": "fd2f6c96",
   "metadata": {},
   "source": [
    "# <center>Google Colab</center>"
   ]
  },
  {
   "cell_type": "markdown",
   "id": "b5ed29d7",
   "metadata": {},
   "source": [
    "[![Open In Colab](https://colab.research.google.com/assets/colab-badge.svg)](https://colab.research.google.com/github/bhusalanil121/Artificial-Intelligence/blob/main/Assignment_2.ipynb)"
   ]
  },
  {
   "cell_type": "markdown",
   "id": "e41619f1",
   "metadata": {},
   "source": [
    "<center><h3>Project Description</h3></center>"
   ]
  },
  {
   "cell_type": "markdown",
   "id": "808fb3e4",
   "metadata": {},
   "source": [
    "<div> In this project. I will be analysing the different sum methods along with their run time, relative error and absoulute error. To calculate the different aspects of different method, I have created a random number generator of fixed size array 100000, 1000000, and 10000000. \n",
    "</div>"
   ]
  },
  {
   "cell_type": "code",
   "execution_count": 1,
   "id": "0ceab8bb",
   "metadata": {},
   "outputs": [],
   "source": [
    "# import libraries\n",
    "import numpy as np\n",
    "import random\n",
    "import math \n",
    "import time"
   ]
  },
  {
   "cell_type": "code",
   "execution_count": 2,
   "id": "7c198e56",
   "metadata": {},
   "outputs": [],
   "source": [
    "# math.fsum \n",
    "def math_fsum(x):\n",
    "    s = 0\n",
    "    s = math.fsum(x)\n",
    "    return s;"
   ]
  },
  {
   "cell_type": "code",
   "execution_count": 3,
   "id": "8fab0e01",
   "metadata": {},
   "outputs": [],
   "source": [
    "# numpy.sum \n",
    "def numpy_sum(x):\n",
    "    s = 0\n",
    "    s = np.sum(x)\n",
    "    return s;"
   ]
  },
  {
   "cell_type": "code",
   "execution_count": 4,
   "id": "89db09d6",
   "metadata": {},
   "outputs": [],
   "source": [
    "# Naive summation\n",
    "def naive_sum(N,x):\n",
    "    s = 0\n",
    "    for i in range(N):\n",
    "        s += x[i]\n",
    "    return s"
   ]
  },
  {
   "cell_type": "code",
   "execution_count": 5,
   "id": "d5dc2d5b",
   "metadata": {},
   "outputs": [],
   "source": [
    "# Compensated summation\n",
    "def compensated_sum(N,x):\n",
    "    s, e = 0 , 0\n",
    "    for i in range(N):    \n",
    "        temp = s\n",
    "        y = x[i] + e\n",
    "        s = temp + y\n",
    "        e = (temp - s) + y\n",
    "    return s + e"
   ]
  },
  {
   "cell_type": "code",
   "execution_count": 6,
   "id": "e3e1eeae",
   "metadata": {},
   "outputs": [
    {
     "name": "stdout",
     "output_type": "stream",
     "text": [
      "For nsums = 100000\n",
      "Sum using Math.fsum method: 100111.60439600056\n",
      "Absolute Error = 0.0\n",
      "Relative Error = 0.0\n",
      "Time Elapsed = 0.008406877517700195 \n",
      "\n",
      "Sum using numpy.sum method: 100111.60439600055\n",
      "Absolute Error = 1.4551915228366852e-11\n",
      "Relative Error = 1.4535692756261728e-16\n",
      "Time Elapsed = 0.00014519691467285156 \n",
      "\n",
      "Sum using Naive summation method: 100111.60439600128\n",
      "Absolute Error = 7.130438461899757e-10\n",
      "Relative Error = 7.122489450568247e-15\n",
      "Time Elapsed = 0.02070903778076172 \n",
      "\n",
      "Sum using Compensated summation method: 100111.60439600056\n",
      "Absolute Error = 0.0\n",
      "Relative Error = 0.0\n",
      "Time Elapsed = 0.05168008804321289 \n",
      "\n",
      "----------------------------------------------------------------------\n",
      "For nsums = 1000000\n",
      "Sum using Math.fsum method: 1002810.9748180569\n",
      "Absolute Error = 0.0\n",
      "Relative Error = 0.0\n",
      "Time Elapsed = 0.07891201972961426 \n",
      "\n",
      "Sum using numpy.sum method: 1002810.9748180567\n",
      "Absolute Error = 2.3283064365386963e-10\n",
      "Relative Error = 2.3217799715057246e-16\n",
      "Time Elapsed = 0.0007376670837402344 \n",
      "\n",
      "Sum using Naive summation method: 1002810.9748180414\n",
      "Absolute Error = 1.548323780298233e-08\n",
      "Relative Error = 1.543983681051307e-14\n",
      "Time Elapsed = 0.23664307594299316 \n",
      "\n",
      "Sum using Compensated summation method: 1002810.9748180569\n",
      "Absolute Error = 0.0\n",
      "Relative Error = 0.0\n",
      "Time Elapsed = 0.30866312980651855 \n",
      "\n",
      "----------------------------------------------------------------------\n",
      "For nsums = 10000000\n",
      "Sum using Math.fsum method: 10022718.704574307\n",
      "Absolute Error = 0.0\n",
      "Relative Error = 0.0\n",
      "Time Elapsed = 0.8483850955963135 \n",
      "\n",
      "Sum using numpy.sum method: 10022718.704574304\n",
      "Absolute Error = 3.725290298461914e-09\n",
      "Relative Error = 3.7168461055997855e-16\n",
      "Time Elapsed = 0.006653785705566406 \n",
      "\n",
      "Sum using Naive summation method: 10022718.704572588\n",
      "Absolute Error = 1.7192214727401733e-06\n",
      "Relative Error = 1.715324477734301e-13\n",
      "Time Elapsed = 1.5215439796447754 \n",
      "\n",
      "Sum using Compensated summation method: 10022718.704574307\n",
      "Absolute Error = 0.0\n",
      "Relative Error = 0.0\n",
      "Time Elapsed = 3.6447858810424805 \n",
      "\n",
      "----------------------------------------------------------------------\n"
     ]
    }
   ],
   "source": [
    "for n in [5,6,7]: # 5,6,7 are the power to be raised of 10\n",
    "    \n",
    "    # generate array of numbers\n",
    "    nexp = n\n",
    "    nsums = 10**nexp\n",
    "    x = np.zeros(nsums)\n",
    "    id = 23738906         # My cuny id.\n",
    "    random.seed(id)\n",
    "    id10 = id/10**10\n",
    "    for i in range(nsums):\n",
    "        x[i] = random.uniform(0.,2.) + id10\n",
    "    print(f'For nsums = {10**n}')\n",
    "    \n",
    "    # For math.fsum \n",
    "    # calculate the elapsed time for math.fsum method\n",
    "    start_time = time.time()\n",
    "    fsum = math_fsum(x)\n",
    "    end_time = time.time()\n",
    "    elapsed_time = end_time - start_time\n",
    "    print(f'Sum using Math.fsum method: {fsum}')\n",
    "    # find the absolute and realtive error\n",
    "    print(f'Absolute Error = {abs(fsum - fsum)}') #Since I am assuming that fsum gives exact result\n",
    "    print(f'Relative Error = {abs((fsum - fsum)/fsum)}')\n",
    "    print(f'Time Elapsed = {elapsed_time} \\n')\n",
    "        \n",
    "        \n",
    "    # For numpy.sum \n",
    "    # calculate the elapsed time for numpy.sum method\n",
    "    start_time = time.time()\n",
    "    nsum = numpy_sum(x)\n",
    "    end_time = time.time()\n",
    "    elapsed_time = end_time - start_time\n",
    "    print(f'Sum using numpy.sum method: {nsum}')\n",
    "    # find the absolute and realtive error\n",
    "    print(f'Absolute Error = {abs(nsum - fsum)}')\n",
    "    print(f'Relative Error = {abs((nsum - fsum)/fsum)}')\n",
    "    print(f'Time Elapsed = {elapsed_time} \\n')\n",
    "    \n",
    "    \n",
    "    # For Naive summation \n",
    "    # calculate the elapsed time for Naive summation method\n",
    "    start_time = time.time()\n",
    "    naive = naive_sum(nsums, x)\n",
    "    end_time = time.time()\n",
    "    elapsed_time = end_time - start_time\n",
    "    print(f'Sum using Naive summation method: {naive}')\n",
    "    # find the absolute and realtive error\n",
    "    print(f'Absolute Error = {abs(naive - fsum)}')\n",
    "    print(f'Relative Error = {abs((naive - fsum)/fsum)}')\n",
    "    print(f'Time Elapsed = {elapsed_time} \\n')\n",
    "    \n",
    "    # For Compensated summation \n",
    "    # calculate the elapsed time for Compensated summation method\n",
    "    start_time = time.time()\n",
    "    Compensated = compensated_sum(nsums, x)\n",
    "    end_time = time.time()\n",
    "    elapsed_time = end_time - start_time\n",
    "    print(f'Sum using Compensated summation method: {Compensated}')\n",
    "    # find the absolute and realtive error\n",
    "    print(f'Absolute Error = {abs(Compensated - fsum)}')\n",
    "    print(f'Relative Error = {abs((Compensated - fsum)/fsum)}')\n",
    "    print(f'Time Elapsed = {elapsed_time} \\n')\n",
    "    \n",
    "    print('-'*70)\n",
    "    "
   ]
  },
  {
   "cell_type": "markdown",
   "id": "fffebdee",
   "metadata": {},
   "source": [
    "<center><h2> Analysis</h2> </center>"
   ]
  },
  {
   "cell_type": "markdown",
   "id": "b7ac1aff",
   "metadata": {},
   "source": [
    "<div>\n",
    "   From the above result, We can analyze that numpy.sum method is the fasted method among four to calculate the sum. Second, and third fastest method are Math.fsum and Naive summation method respectively. Compensated summation method is the slowest method as a time analysis, but it is the most accurate method to calculate sum. Comparing the results for absolute and relative errors, Naive Summation method has the highest error and numpy.sum method is the the second highest. Since, we took Math.fsum method as the exact result, it will not have any error.    \n",
    "</div>"
   ]
  },
  {
   "cell_type": "markdown",
   "id": "eff37c0c",
   "metadata": {},
   "source": [
    "<center><h3>MEME</h3></center>\n"
   ]
  },
  {
   "cell_type": "markdown",
   "id": "d0581d4d",
   "metadata": {},
   "source": [
    "![](meme.jpg)"
   ]
  }
 ],
 "metadata": {
  "kernelspec": {
   "display_name": "Python 3 (ipykernel)",
   "language": "python",
   "name": "python3"
  },
  "language_info": {
   "codemirror_mode": {
    "name": "ipython",
    "version": 3
   },
   "file_extension": ".py",
   "mimetype": "text/x-python",
   "name": "python",
   "nbconvert_exporter": "python",
   "pygments_lexer": "ipython3",
   "version": "3.8.5"
  }
 },
 "nbformat": 4,
 "nbformat_minor": 5
}
